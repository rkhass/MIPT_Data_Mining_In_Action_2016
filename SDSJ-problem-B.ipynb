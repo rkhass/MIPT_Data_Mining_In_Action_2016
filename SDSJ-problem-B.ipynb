{
 "cells": [
  {
   "cell_type": "code",
   "execution_count": 1,
   "metadata": {
    "collapsed": true
   },
   "outputs": [],
   "source": [
    "import pandas as pd\n",
    "import numpy as np\n",
    "import seaborn as sns\n",
    "import matplotlib.pyplot as plt\n",
    "%matplotlib inline\n",
    "import sklearn.linear_model as lm"
   ]
  },
  {
   "cell_type": "markdown",
   "metadata": {},
   "source": [
    "Читаем входные файлы с данными"
   ]
  },
  {
   "cell_type": "code",
   "execution_count": 2,
   "metadata": {
    "collapsed": true
   },
   "outputs": [],
   "source": [
    "transactions = pd.read_csv('transactions.csv')"
   ]
  },
  {
   "cell_type": "markdown",
   "metadata": {},
   "source": [
    "Берём расходные транзакции и формируем тестовую выборку"
   ]
  },
  {
   "cell_type": "code",
   "execution_count": 3,
   "metadata": {
    "collapsed": false
   },
   "outputs": [],
   "source": [
    "train_transactions = transactions[transactions.amount < 0].copy()\n",
    "train_transactions['day'] = train_transactions.tr_datetime.apply(lambda dt: dt.split()[0]).astype(int)"
   ]
  },
  {
   "cell_type": "code",
   "execution_count": 4,
   "metadata": {
    "collapsed": true
   },
   "outputs": [],
   "source": [
    "test_transactions = pd.DataFrame(columns=train_transactions.mcc_code.unique(), \n",
    "                                 index=np.arange(1, 31) + train_transactions.day.max())\n",
    "test_transactions = test_transactions.unstack().reset_index().dropna(axis=1)\n",
    "test_transactions.columns = ['mcc_code', 'day']"
   ]
  },
  {
   "cell_type": "code",
   "execution_count": 5,
   "metadata": {
    "collapsed": true
   },
   "outputs": [],
   "source": [
    "train_grid = pd.DataFrame(columns=train_transactions.mcc_code.unique(), \n",
    "                          index=train_transactions.day.unique())\n",
    "train_grid = train_grid.unstack().reset_index().dropna(axis=1)\n",
    "train_grid.columns = ['mcc_code', 'day']"
   ]
  },
  {
   "cell_type": "markdown",
   "metadata": {},
   "source": [
    "Добавляем признаки, относящиеся к дате."
   ]
  },
  {
   "cell_type": "code",
   "execution_count": 6,
   "metadata": {
    "collapsed": true
   },
   "outputs": [],
   "source": [
    "aug0 = {i : 8 for i in range(0, 31)}\n",
    "sep0 = {i : 9 for i in range(31, 61)}\n",
    "oct0 = {i : 10 for i in range(61, 92)}\n",
    "nov0 = {i : 11 for i in range(92, 122)}\n",
    "dec0 = {i : 12 for i in range(122, 153)}\n",
    "\n",
    "jan1 = {i : 1 for i in range(153, 184)}\n",
    "feb1 = {i : 2 for i in range(184, 212)}\n",
    "mar1 = {i : 3 for i in range(212, 243)}\n",
    "apr1 = {i : 4 for i in range(243, 273)}\n",
    "may1 = {i : 5 for i in range(273, 304)}\n",
    "jun1 = {i : 6 for i in range(304, 334)}\n",
    "jul1 = {i : 7 for i in range(334, 365)}\n",
    "aug1 = {i : 8 for i in range(365, 396)}\n",
    "sep1 = {i : 9 for i in range(396, 426)}\n",
    "oct1 = {i : 10 for i in range(426, 457)}\n",
    "nov1 = {i : 11 for i in range(457, 487)}\n",
    "\n",
    "months = {}\n",
    "for d in aug0, sep0, oct0, nov0, dec0, jan1, feb1, mar1, apr1, may1, jun1, jul1, aug1, sep1, oct1, nov1:\n",
    "    months.update(d)\n",
    "    \n",
    "    \n",
    "daug0 = {i : i + 1 for i in range(0, 31)}\n",
    "dsep0 = {i : i - 30 for i in range(31, 61)}\n",
    "doct0 = {i : i - 60 for i in range(61, 92)}\n",
    "dnov0 = {i : i - 91 for i in range(92, 122)}\n",
    "ddec0 = {i : i - 121 for i in range(122, 153)}\n",
    "\n",
    "djan1 = {i : i - 152 for i in range(153, 184)}\n",
    "dfeb1 = {i : i - 183 for i in range(184, 212)}\n",
    "dmar1 = {i : i - 211 for i in range(212, 243)}\n",
    "dapr1 = {i : i - 242 for i in range(243, 273)}\n",
    "dmay1 = {i : i - 272 for i in range(273, 304)}\n",
    "djun1 = {i : i - 303 for i in range(304, 334)}\n",
    "djul1 = {i : i - 333 for i in range(334, 365)}\n",
    "daug1 = {i : i - 364 for i in range(365, 396)}\n",
    "dsep1 = {i : i - 395 for i in range(396, 426)}\n",
    "doct1 = {i : i - 425 for i in range(426, 457)}\n",
    "dnov1 = {i : i - 456 for i in range(457, 487)}\n",
    "\n",
    "days = {}\n",
    "for d in daug0, dsep0, doct0, dnov0, ddec0, djan1, dfeb1, dmar1, dapr1, dmay1, djun1, djul1, daug1, dsep1, doct1, dnov1:\n",
    "    days.update(d)\n",
    "    \n",
    "    \n",
    "def shift(i, step):\n",
    "    weeks = set(range(1,54))\n",
    "    if i + step in weeks: return i + step\n",
    "    elif step > 0: return i + step - 53\n",
    "    else: return i + step + 53"
   ]
  },
  {
   "cell_type": "code",
   "execution_count": 7,
   "metadata": {
    "collapsed": true
   },
   "outputs": [],
   "source": [
    "for tr_table in [train_transactions, test_transactions, train_grid]:\n",
    "    tr_table['week_num'] = (tr_table['day'][tr_table.day >= 153] + 4) // 7 - 21 \n",
    "    tr_table['week_num'] = tr_table['week_num'].fillna((tr_table.day + 5) // 7 + 31)\n",
    "    tr_table['week_day'] = (tr_table['day'] + 5) % 7\n",
    "    tr_table['month_num'] = tr_table['day'].apply(lambda dt: months[dt])\n",
    "    tr_table['month_day'] = tr_table['day'].apply(lambda dt: days[dt])"
   ]
  },
  {
   "cell_type": "code",
   "execution_count": 8,
   "metadata": {
    "collapsed": true
   },
   "outputs": [],
   "source": [
    "train_transactions = \\\n",
    "    pd.merge(train_grid,\n",
    "             train_transactions.groupby(['day', 'week_num', 'week_day', 'month_num', 'month_day', 'mcc_code'])[['amount']]\\\n",
    "                 .sum().reset_index(),\n",
    "             how='left').fillna(0)"
   ]
  },
  {
   "cell_type": "code",
   "execution_count": 9,
   "metadata": {
    "collapsed": false
   },
   "outputs": [],
   "source": [
    "for day_shift in range(7,365,7):\n",
    "    train_shift = train_transactions.copy()\n",
    "    train_shift['day'] += day_shift\n",
    "    train_shift['amount_day_{}'.format(day_shift)] = np.log(-train_shift['amount'] + 500)\n",
    "    train_shift = train_shift[['day', 'mcc_code', 'amount_day_{}'.format(day_shift)]]\n",
    "\n",
    "    train_transactions = pd.merge(train_transactions, train_shift, \n",
    "                                      on=['day', 'mcc_code'], how='left')\n",
    "    test_transactions = pd.merge(test_transactions, train_shift, \n",
    "                                     on=['day', 'mcc_code'], how='left')"
   ]
  },
  {
   "cell_type": "code",
   "execution_count": 10,
   "metadata": {
    "collapsed": false,
    "scrolled": true
   },
   "outputs": [],
   "source": [
    "col = train_transactions.columns.difference(['month_day'])\n",
    "train_transactions = train_transactions[col]"
   ]
  },
  {
   "cell_type": "code",
   "execution_count": 11,
   "metadata": {
    "collapsed": false,
    "scrolled": false
   },
   "outputs": [],
   "source": [
    "test_transactions.iloc[:,6:]=test_transactions.iloc[:,6:].where(pd.notnull(test_transactions.iloc[:,6:]), test_transactions.iloc[:,6:].mean(1), axis = 0)"
   ]
  },
  {
   "cell_type": "code",
   "execution_count": 12,
   "metadata": {
    "collapsed": false,
    "scrolled": true
   },
   "outputs": [],
   "source": [
    "train_transactions = train_transactions.dropna().reset_index()\n",
    "train_transactions = train_transactions.iloc[:,1:]"
   ]
  },
  {
   "cell_type": "markdown",
   "metadata": {},
   "source": [
    "Обучаемся на всех данных"
   ]
  },
  {
   "cell_type": "code",
   "execution_count": 14,
   "metadata": {
    "collapsed": false
   },
   "outputs": [
    {
     "data": {
      "text/plain": [
       "Lasso(alpha=0.0001, copy_X=True, fit_intercept=True, max_iter=4000,\n",
       "   normalize=False, positive=False, precompute=False, random_state=None,\n",
       "   selection='cyclic', tol=0.0001, warm_start=False)"
      ]
     },
     "execution_count": 14,
     "metadata": {},
     "output_type": "execute_result"
    }
   ],
   "source": [
    "shift = 500\n",
    "train = pd.get_dummies(train_transactions, columns=['mcc_code', 'week_day'])\n",
    "test = pd.get_dummies(test_transactions, columns=['mcc_code', 'week_day'])\n",
    "c = train.columns.difference(['amount'])\n",
    "\n",
    "clf = lm.Lasso(alpha = 0.0001, max_iter=4000)\n",
    "clf.fit(train[c], np.log(-train['amount'] + shift))"
   ]
  },
  {
   "cell_type": "markdown",
   "metadata": {},
   "source": [
    "Предсказываем объём трат для тестовых данных и создаём файл с ответом"
   ]
  },
  {
   "cell_type": "code",
   "execution_count": 16,
   "metadata": {
    "collapsed": false
   },
   "outputs": [],
   "source": [
    "test_transactions['volume'] = np.e ** clf.predict(test[c]) - shift\n",
    "test_transactions[['mcc_code', 'day', 'volume']].to_csv('baseline_b.csv', index=False)"
   ]
  }
 ],
 "metadata": {
  "kernelspec": {
   "display_name": "Python 2",
   "language": "python",
   "name": "python2"
  },
  "language_info": {
   "codemirror_mode": {
    "name": "ipython",
    "version": 2
   },
   "file_extension": ".py",
   "mimetype": "text/x-python",
   "name": "python",
   "nbconvert_exporter": "python",
   "pygments_lexer": "ipython2",
   "version": "2.7.12"
  }
 },
 "nbformat": 4,
 "nbformat_minor": 0
}
