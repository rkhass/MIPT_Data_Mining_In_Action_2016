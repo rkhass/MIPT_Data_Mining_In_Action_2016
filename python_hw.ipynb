{
 "cells": [
  {
   "cell_type": "markdown",
   "metadata": {},
   "source": [
    "# Python"
   ]
  },
  {
   "cell_type": "markdown",
   "metadata": {},
   "source": [
    "1 FizzBuzz"
   ]
  },
  {
   "cell_type": "code",
   "execution_count": 19,
   "metadata": {
    "collapsed": true
   },
   "outputs": [
    {
     "name": "stdout",
     "output_type": "stream",
     "text": [
      "1\n",
      "2\n",
      "Fizz\n",
      "4\n",
      "Buzz\n",
      "Fizz\n",
      "7\n",
      "8\n",
      "Fizz\n",
      "Buzz\n",
      "11\n",
      "Fizz\n",
      "13\n",
      "14\n",
      "FizzBuzz\n",
      "16\n",
      "17\n",
      "Fizz\n",
      "19\n",
      "Buzz\n",
      "Fizz\n",
      "22\n",
      "23\n",
      "Fizz\n",
      "Buzz\n",
      "26\n",
      "Fizz\n",
      "28\n",
      "29\n",
      "FizzBuzz\n",
      "31\n",
      "32\n",
      "Fizz\n",
      "34\n",
      "Buzz\n",
      "Fizz\n",
      "37\n",
      "38\n",
      "Fizz\n",
      "Buzz\n",
      "41\n",
      "Fizz\n",
      "43\n",
      "44\n",
      "FizzBuzz\n",
      "46\n",
      "47\n",
      "Fizz\n",
      "49\n",
      "Buzz\n",
      "Fizz\n",
      "52\n",
      "53\n",
      "Fizz\n",
      "Buzz\n",
      "56\n",
      "Fizz\n",
      "58\n",
      "59\n",
      "FizzBuzz\n",
      "61\n",
      "62\n",
      "Fizz\n",
      "64\n",
      "Buzz\n",
      "Fizz\n",
      "67\n",
      "68\n",
      "Fizz\n",
      "Buzz\n",
      "71\n",
      "Fizz\n",
      "73\n",
      "74\n",
      "FizzBuzz\n",
      "76\n",
      "77\n",
      "Fizz\n",
      "79\n",
      "Buzz\n",
      "Fizz\n",
      "82\n",
      "83\n",
      "Fizz\n",
      "Buzz\n",
      "86\n",
      "Fizz\n",
      "88\n",
      "89\n",
      "FizzBuzz\n",
      "91\n",
      "92\n",
      "Fizz\n",
      "94\n",
      "Buzz\n",
      "Fizz\n",
      "97\n",
      "98\n",
      "Fizz\n",
      "Buzz\n"
     ]
    }
   ],
   "source": [
    "for i in xrange(1, 101):\n",
    "    if i % 15 == 0: print \"FizzBuzz\"\n",
    "    elif i % 3 == 0: print \"Fizz\"\n",
    "    elif i % 5 == 0: print \"Buzz\"\n",
    "    else: print i"
   ]
  },
  {
   "cell_type": "markdown",
   "metadata": {},
   "source": [
    "2 Число Фибоначчи"
   ]
  },
  {
   "cell_type": "code",
   "execution_count": 20,
   "metadata": {
    "collapsed": true
   },
   "outputs": [
    {
     "name": "stdout",
     "output_type": "stream",
     "text": [
      "3 1 <type 'int'>\n",
      "4 2 <type 'int'>\n",
      "5 3 <type 'int'>\n",
      "6 5 <type 'int'>\n",
      "7 8 <type 'int'>\n",
      "8 13 <type 'int'>\n",
      "9 21 <type 'int'>\n",
      "10 34 <type 'int'>\n",
      "11 55 <type 'int'>\n",
      "12 89 <type 'int'>\n",
      "13 144 <type 'int'>\n",
      "14 233 <type 'int'>\n",
      "15 377 <type 'int'>\n",
      "16 610 <type 'int'>\n",
      "17 987 <type 'int'>\n",
      "18 1597 <type 'int'>\n",
      "19 2584 <type 'int'>\n",
      "20 4181 <type 'int'>\n",
      "21 6765 <type 'int'>\n",
      "22 10946 <type 'int'>\n",
      "23 17711 <type 'int'>\n",
      "24 28657 <type 'int'>\n",
      "25 46368 <type 'int'>\n",
      "26 75025 <type 'int'>\n",
      "27 121393 <type 'int'>\n",
      "28 196418 <type 'int'>\n",
      "29 317811 <type 'int'>\n",
      "30 514229 <type 'int'>\n",
      "31 832040 <type 'int'>\n",
      "32 1346269 <type 'int'>\n",
      "33 2178309 <type 'int'>\n",
      "34 3524578 <type 'int'>\n",
      "35 5702887 <type 'int'>\n",
      "36 9227465 <type 'int'>\n",
      "37 14930352 <type 'int'>\n",
      "38 24157817 <type 'int'>\n",
      "39 39088169 <type 'int'>\n",
      "40 63245986 <type 'int'>\n",
      "41 102334155 <type 'int'>\n",
      "42 165580141 <type 'int'>\n",
      "43 267914296 <type 'int'>\n",
      "44 433494437 <type 'int'>\n",
      "45 701408733 <type 'int'>\n",
      "46 1134903170 <type 'int'>\n",
      "47 1836311903 <type 'int'>\n",
      "48 2971215073 <type 'int'>\n",
      "49 4807526976 <type 'int'>\n",
      "50 7778742049 <type 'int'>\n",
      "51 12586269025 <type 'int'>\n",
      "52 20365011074 <type 'int'>\n",
      "53 32951280099 <type 'int'>\n",
      "54 53316291173 <type 'int'>\n",
      "55 86267571272 <type 'int'>\n",
      "56 139583862445 <type 'int'>\n",
      "57 225851433717 <type 'int'>\n",
      "58 365435296162 <type 'int'>\n",
      "59 591286729879 <type 'int'>\n",
      "60 956722026041 <type 'int'>\n",
      "61 1548008755920 <type 'int'>\n",
      "62 2504730781961 <type 'int'>\n",
      "63 4052739537881 <type 'int'>\n",
      "64 6557470319842 <type 'int'>\n",
      "65 10610209857723 <type 'int'>\n",
      "66 17167680177565 <type 'int'>\n",
      "67 27777890035288 <type 'int'>\n",
      "68 44945570212853 <type 'int'>\n",
      "69 72723460248141 <type 'int'>\n",
      "70 117669030460994 <type 'int'>\n",
      "71 190392490709135 <type 'int'>\n",
      "72 308061521170129 <type 'int'>\n",
      "73 498454011879264 <type 'int'>\n",
      "74 806515533049393 <type 'int'>\n",
      "75 1304969544928657 <type 'int'>\n",
      "76 2111485077978050 <type 'int'>\n",
      "77 3416454622906707 <type 'int'>\n",
      "78 5527939700884757 <type 'int'>\n",
      "79 8944394323791464 <type 'int'>\n",
      "80 14472334024676221 <type 'int'>\n",
      "81 23416728348467685 <type 'int'>\n",
      "82 37889062373143906 <type 'int'>\n",
      "83 61305790721611591 <type 'int'>\n",
      "84 99194853094755497 <type 'int'>\n",
      "85 160500643816367088 <type 'int'>\n",
      "86 259695496911122585 <type 'int'>\n",
      "87 420196140727489673 <type 'int'>\n",
      "88 679891637638612258 <type 'int'>\n",
      "89 1100087778366101931 <type 'int'>\n",
      "90 1779979416004714189 <type 'int'>\n",
      "91 2880067194370816120 <type 'int'>\n",
      "92 4660046610375530309 <type 'int'>\n",
      "93 7540113804746346429 <type 'int'>\n",
      "94 12200160415121876738 <type 'long'>\n",
      "95 19740274219868223167 <type 'long'>\n",
      "96 31940434634990099905 <type 'long'>\n",
      "97 51680708854858323072 <type 'long'>\n",
      "98 83621143489848422977 <type 'long'>\n",
      "99 135301852344706746049 <type 'long'>\n",
      "100 218922995834555169026 <type 'long'>\n"
     ]
    }
   ],
   "source": [
    "a = 0\n",
    "b = 1\n",
    "for i in xrange(3, 101):\n",
    "    c = a + b\n",
    "    a = b\n",
    "    b = c\n",
    "    print i, c, type(c)"
   ]
  },
  {
   "cell_type": "markdown",
   "metadata": {},
   "source": [
    "Ответ: 218922995834555169026"
   ]
  },
  {
   "cell_type": "markdown",
   "metadata": {},
   "source": [
    "# NumPy"
   ]
  },
  {
   "cell_type": "code",
   "execution_count": 7,
   "metadata": {
    "collapsed": true
   },
   "outputs": [],
   "source": [
    "import numpy as np"
   ]
  },
  {
   "cell_type": "markdown",
   "metadata": {},
   "source": [
    "1 numpy.linspace"
   ]
  },
  {
   "cell_type": "code",
   "execution_count": 227,
   "metadata": {
    "collapsed": false
   },
   "outputs": [],
   "source": [
    "# returns: samples, step\n",
    "def linspace(start, stop, num = 50, endpoint = True, retstep = False):\n",
    "    array = np.zeros(num)\n",
    "    \n",
    "    if endpoint == False:\n",
    "        step = float(stop - start) / num\n",
    "    else:\n",
    "        step = float(stop - start) / (num - 1)      \n",
    "    \n",
    "    val = start\n",
    "    for i in xrange(num):\n",
    "        array[i] = round(step * i, 8)\n",
    "        \n",
    "    if retstep == False:\n",
    "        return array\n",
    "    else:\n",
    "        return array, step\n",
    "        \n",
    "    "
   ]
  },
  {
   "cell_type": "code",
   "execution_count": 222,
   "metadata": {
    "collapsed": false
   },
   "outputs": [
    {
     "name": "stdout",
     "output_type": "stream",
     "text": [
      "[ 0.          0.33333333  0.66666667  1.        ]\n",
      "[ 0.    0.25  0.5   0.75]\n",
      "(array([ 0.        ,  0.33333333,  0.66666667,  1.        ]), 0.3333333333333333)\n",
      "\n",
      "[ 0.          0.33333333  0.66666667  1.        ]\n",
      "[ 0.    0.25  0.5   0.75]\n",
      "(array([ 0.        ,  0.33333333,  0.66666667,  1.        ]), 0.3333333333333333)\n"
     ]
    }
   ],
   "source": [
    "print linspace(0, 1, num = 4)\n",
    "print linspace(0, 1, num = 4, endpoint = False)\n",
    "print linspace(0, 1, num = 4, retstep = True)\n",
    "\n",
    "print\n",
    "print np.linspace(0, 1, num = 4)\n",
    "print np.linspace(0, 1, num = 4, endpoint = False)\n",
    "print np.linspace(0, 1, num = 4, retstep = True)"
   ]
  },
  {
   "cell_type": "code",
   "execution_count": 207,
   "metadata": {
    "collapsed": false
   },
   "outputs": [
    {
     "name": "stdout",
     "output_type": "stream",
     "text": [
      "1000 loops, best of 3: 774 µs per loop\n"
     ]
    }
   ],
   "source": [
    "%timeit np.linspace(0, 1, num = 100000)"
   ]
  },
  {
   "cell_type": "code",
   "execution_count": 226,
   "metadata": {
    "collapsed": false
   },
   "outputs": [
    {
     "name": "stdout",
     "output_type": "stream",
     "text": [
      "10 loops, best of 3: 128 ms per loop\n"
     ]
    }
   ],
   "source": [
    "%timeit linspace(0, 1, num = 100000)"
   ]
  },
  {
   "cell_type": "code",
   "execution_count": 228,
   "metadata": {
    "collapsed": false
   },
   "outputs": [],
   "source": [
    "# returns: samples, step\n",
    "def linspaceList(start, stop, num = 50, endpoint = True, retstep = False):\n",
    "    #array = [] \n",
    "    if endpoint == False:\n",
    "        step = float(stop - start) / num\n",
    "    else:\n",
    "        step = float(stop - start) / (num - 1)      \n",
    "    \n",
    "    n = start\n",
    "\n",
    "    array = (np.arange(num)) * step\n",
    "    #array = [round(step * i, 8) for i in xrange(num)]\n",
    "    \n",
    "    if retstep == False:\n",
    "        return array\n",
    "    else:\n",
    "        return array, step\n",
    "        \n",
    "    "
   ]
  },
  {
   "cell_type": "code",
   "execution_count": 229,
   "metadata": {
    "collapsed": false
   },
   "outputs": [
    {
     "name": "stdout",
     "output_type": "stream",
     "text": [
      "1000 loops, best of 3: 472 µs per loop\n"
     ]
    }
   ],
   "source": [
    "%timeit linspaceList(0, 1, num = 100000)"
   ]
  },
  {
   "cell_type": "markdown",
   "metadata": {},
   "source": [
    "2 Основные операции ndarray и list"
   ]
  },
  {
   "cell_type": "code",
   "execution_count": null,
   "metadata": {
    "collapsed": true
   },
   "outputs": [],
   "source": []
  },
  {
   "cell_type": "markdown",
   "metadata": {},
   "source": [
    "# Matplotlib"
   ]
  },
  {
   "cell_type": "code",
   "execution_count": 4,
   "metadata": {
    "collapsed": true
   },
   "outputs": [],
   "source": [
    "import numpy as np\n",
    "import matplotlib.pyplot as plt\n",
    "%matplotlib inline"
   ]
  },
  {
   "cell_type": "code",
   "execution_count": 21,
   "metadata": {
    "collapsed": false
   },
   "outputs": [],
   "source": [
    "x = np.linspace(1, 8, num = 100)\n",
    "y1 = - 0.05 * x ** 2 + 2\n",
    "y2 = np.log(x + 1)\n",
    "y3 = np.sin(x)\n",
    "y4 = np.cos(x)\n",
    "y5 = np.arctan(x)"
   ]
  },
  {
   "cell_type": "code",
   "execution_count": 47,
   "metadata": {
    "collapsed": false
   },
   "outputs": [
    {
     "data": {
      "image/png": "[encoded data removed]",
      "text/plain": [
       "<matplotlib.figure.Figure at 0x7fbfe7625610>"
      ]
     },
     "metadata": {},
     "output_type": "display_data"
    }
   ],
   "source": [
    "fig = plt.figure(figsize = (17,6))\n",
    "\n",
    "ax = fig.add_subplot(1,2,1)\n",
    "ax.plot(x,y1, 'y', label = 'y1')\n",
    "ax.plot(x,y2, 'r', label = 'y2')\n",
    "ax.plot(x,y3, 'b', label = 'y')\n",
    "\n",
    "ax.legend(loc = 3, fontsize = 10)\n",
    "ax.set_title('3 functions')\n",
    "ax.set_xlabel('x')\n",
    "ax.set_ylabel('y')\n",
    "\n",
    "ax = fig.add_subplot(122)\n",
    "\n",
    "ax.plot(x,y4, 'bo', color = 'purple', label = 'y4')\n",
    "ax.plot(x,y5, 'green', label = 'y5')\n",
    "\n",
    "# loc - позиция (номер угла)\n",
    "ax.legend(loc = 2, fontsize = 12, numpoints = 2)\n",
    "ax.set_title('2 functions')\n",
    "ax.set_xlabel('x')\n",
    "ax.set_ylabel('y')\n",
    "\n",
    "plt.savefig('functions.png', dpi = 400)\n",
    "\n"
   ]
  },
  {
   "cell_type": "markdown",
   "metadata": {},
   "source": [
    "# Scipy"
   ]
  },
  {
   "cell_type": "code",
   "execution_count": 54,
   "metadata": {
    "collapsed": true
   },
   "outputs": [],
   "source": [
    "from scipy import linalg"
   ]
  },
  {
   "cell_type": "code",
   "execution_count": 166,
   "metadata": {
    "collapsed": false
   },
   "outputs": [],
   "source": [
    "a = np.random.randn(5, 5)"
   ]
  },
  {
   "cell_type": "markdown",
   "metadata": {},
   "source": [
    "Собственные значения и вектора:"
   ]
  },
  {
   "cell_type": "code",
   "execution_count": 167,
   "metadata": {
    "collapsed": false
   },
   "outputs": [],
   "source": [
    "lmbd, x = linalg.eig(a)"
   ]
  },
  {
   "cell_type": "markdown",
   "metadata": {},
   "source": [
    "Проверка"
   ]
  },
  {
   "cell_type": "code",
   "execution_count": 172,
   "metadata": {
    "collapsed": false
   },
   "outputs": [
    {
     "name": "stdout",
     "output_type": "stream",
     "text": [
      "[ 0.9-0.2j  1.7-0.j  -1.7-0.1j -0.9+0.1j  1.3-0.1j]\n",
      "[ 0.6-0.1j -0.6-0.j   0.1+0.j   0.5+0.j  -0.2-0.1j]\n",
      "[-2.4+0.j  -0.1+0.j   0.4-0.2j -1.3-0.2j -0.8+0.2j]\n",
      "[-1.5+0.2j  0.2+0.2j -1.3-0.1j -0.8+0.1j -0.0+0.j ]\n"
     ]
    }
   ],
   "source": [
    "for i in xrange(0, 4):\n",
    "    print np.round(np.dot(a, x[i]) - lmbd[i] * x[i], 1)"
   ]
  },
  {
   "cell_type": "markdown",
   "metadata": {},
   "source": [
    "Собственные вектора располагаются столбцами!"
   ]
  },
  {
   "cell_type": "code",
   "execution_count": 176,
   "metadata": {
    "collapsed": false
   },
   "outputs": [
    {
     "name": "stdout",
     "output_type": "stream",
     "text": [
      "[ 0.+0.j -0.+0.j -0.+0.j  0.+0.j  0.+0.j]\n",
      "[ 0.+0.j -0.+0.j  0.+0.j  0.+0.j -0.+0.j]\n",
      "[-0.-0.j  0.+0.j  0.+0.j -0.-0.j  0.+0.j]\n",
      "[-0.+0.j  0.-0.j  0.-0.j -0.+0.j  0.-0.j]\n",
      "[ 0.+0.j -0.+0.j -0.+0.j  0.+0.j -0.+0.j]\n"
     ]
    }
   ],
   "source": [
    "for i in xrange(0, 5):\n",
    "    print np.round(np.dot(a, x[:,i]) - lmbd[i] * x[:,i], 14)"
   ]
  },
  {
   "cell_type": "markdown",
   "metadata": {},
   "source": [
    "Точность получилась 14 порядка"
   ]
  }
 ],
 "metadata": {
  "kernelspec": {
   "display_name": "Python 2",
   "language": "python",
   "name": "python2"
  },
  "language_info": {
   "codemirror_mode": {
    "name": "ipython",
    "version": 2
   },
   "file_extension": ".py",
   "mimetype": "text/x-python",
   "name": "python",
   "nbconvert_exporter": "python",
   "pygments_lexer": "ipython2",
   "version": "2.7.11"
  }
 },
 "nbformat": 4,
 "nbformat_minor": 0
}
